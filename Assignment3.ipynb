{
 "cells": [
  {
   "cell_type": "markdown",
   "source": [
    "Assignment 3\n",
    "===="
   ],
   "metadata": {
    "collapsed": false,
    "pycharm": {
     "name": "#%% md\n"
    }
   }
  },
  {
   "cell_type": "code",
   "execution_count": 49,
   "metadata": {
    "collapsed": true
   },
   "outputs": [],
   "source": [
    "#Ridden a bicycle from New York City to Key West, Florida\n",
    "#Create a pandas Series object that holds the cumulative miles at the end of each day\n",
    "#use Python to show the total miles that was rode each day\n",
    "#Present this information in a Jupyter notebook\n",
    "\n",
    "#import libraries that are needed\n",
    "import pandas as pd\n",
    "from pandas import DataFrame, Series\n",
    "from matplotlib import pyplot as plt\n",
    "%matplotlib inline\n",
    "\n",
    "pd.set_option('display.notebook_repr_html', False)\n",
    "pd.set_option('display.max_columns', 10)\n",
    "pd.set_option('display.max_rows', 10)\n",
    "\n",
    "#Create a pandas series of the cumulative miles\n",
    "miles = Series([55, 120, 200, 290, 320, 400, 430, 500, 580, 640, 700, 800, 960, 1000, 1100, 1300, 1436])"
   ]
  },
  {
   "cell_type": "code",
   "execution_count": 50,
   "outputs": [],
   "source": [
    "#Calculate the daily miles ridden with python\n",
    "daily = []\n",
    "daily.append(miles[0])\n",
    "for i in range(len(miles) -1):\n",
    "    daily.append(miles[i +1] - miles[i])"
   ],
   "metadata": {
    "collapsed": false,
    "pycharm": {
     "name": "#%%\n"
    }
   }
  },
  {
   "cell_type": "markdown",
   "source": [
    "**Creating a graph**"
   ],
   "metadata": {
    "collapsed": false,
    "pycharm": {
     "name": "#%% md\n"
    }
   }
  },
  {
   "cell_type": "code",
   "execution_count": 51,
   "outputs": [
    {
     "data": {
      "text/plain": "<Figure size 432x288 with 1 Axes>",
      "image/png": "[encoded data removed]"
     },
     "metadata": {
      "needs_background": "light"
     },
     "output_type": "display_data"
    }
   ],
   "source": [
    "#Plot the values of daily miles\n",
    "plt.bar(range(len(daily)),daily, color='red', ecolor='black')\n",
    "plt.xticks([i for i in range(len(daily))])\n",
    "plt.title(\"Miles from NYC to Key West,FL\")\n",
    "plt.ylabel(\"Miles per Day\")\n",
    "plt.xlabel(\"Days\")\n",
    "plt.show()"
   ],
   "metadata": {
    "collapsed": false,
    "pycharm": {
     "name": "#%%\n"
    }
   }
  }
 ],
 "metadata": {
  "kernelspec": {
   "display_name": "Python 3",
   "language": "python",
   "name": "python3"
  },
  "language_info": {
   "codemirror_mode": {
    "name": "ipython",
    "version": 2
   },
   "file_extension": ".py",
   "mimetype": "text/x-python",
   "name": "python",
   "nbconvert_exporter": "python",
   "pygments_lexer": "ipython2",
   "version": "2.7.6"
  }
 },
 "nbformat": 4,
 "nbformat_minor": 0
}
